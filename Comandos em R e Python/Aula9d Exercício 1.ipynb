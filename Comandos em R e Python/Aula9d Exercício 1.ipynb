{
 "cells": [
  {
   "cell_type": "markdown",
   "metadata": {
    "id": "RrB-5rhb1YGm"
   },
   "source": [
    "# Gestão da Qualidade\n",
    "\n",
    "## Lista 3 - Exercício 1\n",
    "\n",
    "por **Cibele Russo** \n",
    "\n",
    "**ICMC/USP - São Carlos SP**\n"
   ]
  },
  {
   "cell_type": "markdown",
   "metadata": {},
   "source": [
    "(Fonte: Montgomery, Douglas C. Introdução ao controle estatístico da qualidade. Grupo Gen-LTC, Sétima edição. 2016.)\n",
    "\n",
    "Um processo está sob controle estatístico com $\\bar{\\bar{x}}=20$ e s=1,2. As especificações são LIE=16 e LSE = 24.\n",
    "\n",
    "\n",
    "a. Estime a capacidade do processo com uma razão apropriada de capacidade do processo.\n",
    "\n",
    "b. Itens produzidos abaixo do limite inferior de especificação devem ser sucateados, enquanto itens produzidos acima do limite superior de especificação devem ser retrabalhados. Qual proporção da saída do processo é sucata e qual proporção é retrabalho?\n",
    "\n",
    "c. Suponha que sucateamento seja quatro vezes mais dispendioso do que retrabalho. Isso sugere que o deslocamento do centro do processo poderia reduzir os custos gerais? Qual valor para o alvo do processo você recomendaria?\n"
   ]
  },
  {
   "cell_type": "code",
   "execution_count": 1,
   "metadata": {},
   "outputs": [],
   "source": [
    "import scipy.stats\n",
    "import numpy as np\n",
    "import matplotlib.pyplot as plt\n",
    "\n",
    "LSE = 24\n",
    "LIE = 16\n",
    "muchapeu = 20\n",
    "sigmachapeu = 1.2"
   ]
  },
  {
   "cell_type": "markdown",
   "metadata": {},
   "source": [
    "**a. Estime a capacidade do processo com uma razão apropriada de capacidade do processo.**"
   ]
  },
  {
   "cell_type": "code",
   "execution_count": 2,
   "metadata": {},
   "outputs": [
    {
     "data": {
      "text/plain": [
       "1.1111111111111112"
      ]
     },
     "execution_count": 2,
     "metadata": {},
     "output_type": "execute_result"
    }
   ],
   "source": [
    "Cp = (LSE - LIE)/(6*sigmachapeu)\n",
    "Cp"
   ]
  },
  {
   "cell_type": "markdown",
   "metadata": {},
   "source": [
    "Temos 967 perdas por milhão segundo a Cp."
   ]
  },
  {
   "cell_type": "code",
   "execution_count": 3,
   "metadata": {},
   "outputs": [
    {
     "data": {
      "text/plain": [
       "1.1111111111111112"
      ]
     },
     "execution_count": 3,
     "metadata": {},
     "output_type": "execute_result"
    }
   ],
   "source": [
    "Cpi = (muchapeu - LIE)/(3*sigmachapeu)\n",
    "Cpi"
   ]
  },
  {
   "cell_type": "code",
   "execution_count": 4,
   "metadata": {},
   "outputs": [
    {
     "data": {
      "text/plain": [
       "1.1111111111111112"
      ]
     },
     "execution_count": 4,
     "metadata": {},
     "output_type": "execute_result"
    }
   ],
   "source": [
    "Cps = (LSE - muchapeu)/(3*sigmachapeu)\n",
    "Cps"
   ]
  },
  {
   "cell_type": "code",
   "execution_count": 5,
   "metadata": {},
   "outputs": [
    {
     "data": {
      "text/plain": [
       "1.1111111111111112"
      ]
     },
     "execution_count": 5,
     "metadata": {},
     "output_type": "execute_result"
    }
   ],
   "source": [
    "Cpk = min(Cpi,Cps)\n",
    "Cpk"
   ]
  },
  {
   "cell_type": "markdown",
   "metadata": {},
   "source": [
    "Conclusão: O processo está centrado no ponto médio das especificações."
   ]
  },
  {
   "cell_type": "markdown",
   "metadata": {},
   "source": [
    "**b. Itens produzidos abaixo do limite inferior de especificação devem ser sucateados, enquanto itens produzidos acima do limite superior de especificação devem ser retrabalhados. Qual proporção da saída do processo é sucata e qual proporação é retrabalho?**"
   ]
  },
  {
   "cell_type": "code",
   "execution_count": 11,
   "metadata": {},
   "outputs": [
    {
     "data": {
      "image/png": "[encoded data removed]",
      "text/plain": [
       "<Figure size 432x288 with 1 Axes>"
      ]
     },
     "metadata": {
      "needs_background": "light"
     },
     "output_type": "display_data"
    }
   ],
   "source": [
    "# Ilustração caso a característica da qualidade tenha distribuição normal\n",
    "\n",
    "\n",
    "import scipy.stats as stats\n",
    "import math\n",
    "\n",
    "plt.xlim=(15,25)\n",
    "\n",
    "\n",
    "mu = 20\n",
    "sigma=1.2\n",
    "x = np.linspace(mu - 4*sigma, mu + 4*sigma, 100)\n",
    "plt.plot(x, stats.norm.pdf(x, mu, sigma))\n",
    "\n",
    "plt.axvline(x=16,ymin = 0, ymax = 0.1,color='red')\n",
    "plt.axvline(x=24,ymin = 0, ymax = 0.1,color='red')\n",
    "plt.text(15.8, 0.03, 'LIE', fontsize=10, color='red',rotation=0, rotation_mode='anchor')\n",
    "plt.text(23.8, 0.03, 'LSE', fontsize=10, color='red',rotation=0, rotation_mode='anchor')\n",
    "\n",
    "plt.show()"
   ]
  },
  {
   "cell_type": "markdown",
   "metadata": {},
   "source": [
    "**c. Suponha que sucateamento seja quatro vezes mais dispendioso do que retrabalho. Isso sugere que o deslocamento do centro do processo poderia reduzir os custos gerais? Qual valor para o alvo do processo você recomendaria?**"
   ]
  },
  {
   "cell_type": "code",
   "execution_count": 20,
   "metadata": {},
   "outputs": [],
   "source": [
    "def sucateamento(alvo):\n",
    "    return(stats.norm.cdf(LIE, alvo, 1.2))\n",
    "\n",
    "def retrabalho(alvo):\n",
    "    return(1-stats.norm.cdf(LSE, alvo, 1.2))\n",
    "\n",
    "def custo(sucat, retrab, C):\n",
    "    return 4*C*sucat+C*retrab  "
   ]
  },
  {
   "cell_type": "code",
   "execution_count": 21,
   "metadata": {},
   "outputs": [
    {
     "data": {
      "text/plain": [
       "0.0004290603331968372"
      ]
     },
     "execution_count": 21,
     "metadata": {},
     "output_type": "execute_result"
    }
   ],
   "source": [
    "sucateamento(20)"
   ]
  },
  {
   "cell_type": "code",
   "execution_count": 22,
   "metadata": {},
   "outputs": [
    {
     "data": {
      "text/plain": [
       "0.0004290603331967846"
      ]
     },
     "execution_count": 22,
     "metadata": {},
     "output_type": "execute_result"
    }
   ],
   "source": [
    "retrabalho(20)"
   ]
  },
  {
   "cell_type": "markdown",
   "metadata": {},
   "source": [
    "A proporção de sucateamento é 0.043% e a proporção de retrabalho é 0.043%"
   ]
  },
  {
   "cell_type": "code",
   "execution_count": 45,
   "metadata": {},
   "outputs": [],
   "source": [
    "x = np.arange(19,21, 0.001)\n",
    "s = np.zeros(len(x))\n",
    "r = np.zeros(len(x))\n",
    "c = np.zeros(len(x))\n"
   ]
  },
  {
   "cell_type": "code",
   "execution_count": 46,
   "metadata": {},
   "outputs": [],
   "source": [
    "for i in range(len(x)):\n",
    "    s[i] = sucateamento(x[i])\n",
    "    r[i] = retrabalho(x[i])\n",
    "    c[i] = custo(sucateamento(x[i]),retrabalho(x[i]),1)\n",
    "\n"
   ]
  },
  {
   "cell_type": "code",
   "execution_count": 47,
   "metadata": {},
   "outputs": [
    {
     "data": {
      "text/plain": [
       "[<matplotlib.lines.Line2D at 0x7f78e6184fa0>]"
      ]
     },
     "execution_count": 47,
     "metadata": {},
     "output_type": "execute_result"
    },
    {
     "data": {
      "image/png": "[encoded data removed]",
      "text/plain": [
       "<Figure size 864x432 with 1 Axes>"
      ]
     },
     "metadata": {
      "needs_background": "light"
     },
     "output_type": "display_data"
    }
   ],
   "source": [
    "plt.rcParams[\"figure.figsize\"]  = (12,6)\n",
    "\n",
    "plt.plot(x,s,'r--')\n",
    "plt.plot(x,r,'b--')\n",
    "plt.plot(x,c,'p-')\n"
   ]
  },
  {
   "cell_type": "code",
   "execution_count": 48,
   "metadata": {},
   "outputs": [
    {
     "data": {
      "text/plain": [
       "0.0016842404635685209"
      ]
     },
     "execution_count": 48,
     "metadata": {},
     "output_type": "execute_result"
    }
   ],
   "source": [
    "min(c)"
   ]
  },
  {
   "cell_type": "code",
   "execution_count": 49,
   "metadata": {},
   "outputs": [
    {
     "data": {
      "text/plain": [
       "1250"
      ]
     },
     "execution_count": 49,
     "metadata": {},
     "output_type": "execute_result"
    }
   ],
   "source": [
    "np.argmin(c)"
   ]
  },
  {
   "cell_type": "code",
   "execution_count": 50,
   "metadata": {},
   "outputs": [
    {
     "data": {
      "text/plain": [
       "20.250000000001528"
      ]
     },
     "execution_count": 50,
     "metadata": {},
     "output_type": "execute_result"
    }
   ],
   "source": [
    "x[np.argmin(c)]"
   ]
  },
  {
   "cell_type": "code",
   "execution_count": 51,
   "metadata": {},
   "outputs": [
    {
     "data": {
      "text/plain": [
       "0.00019880379111406063"
      ]
     },
     "execution_count": 51,
     "metadata": {},
     "output_type": "execute_result"
    }
   ],
   "source": [
    "s[np.argmin(c)]"
   ]
  },
  {
   "cell_type": "code",
   "execution_count": 52,
   "metadata": {},
   "outputs": [
    {
     "data": {
      "text/plain": [
       "0.0008890252991122782"
      ]
     },
     "execution_count": 52,
     "metadata": {},
     "output_type": "execute_result"
    }
   ],
   "source": [
    "r[np.argmin(c)]"
   ]
  },
  {
   "cell_type": "markdown",
   "metadata": {},
   "source": [
    "Resposta c: Recomendaria o valor alvo 20.25 para minimizar o custo."
   ]
  },
  {
   "cell_type": "code",
   "execution_count": null,
   "metadata": {},
   "outputs": [],
   "source": []
  }
 ],
 "metadata": {
  "colab": {
   "collapsed_sections": [],
   "name": "Formação_continuada",
   "provenance": []
  },
  "kernelspec": {
   "display_name": "Python 3 (ipykernel)",
   "language": "python",
   "name": "python3"
  },
  "language_info": {
   "codemirror_mode": {
    "name": "ipython",
    "version": 3
   },
   "file_extension": ".py",
   "mimetype": "text/x-python",
   "name": "python",
   "nbconvert_exporter": "python",
   "pygments_lexer": "ipython3",
   "version": "3.9.5"
  }
 },
 "nbformat": 4,
 "nbformat_minor": 1
}
